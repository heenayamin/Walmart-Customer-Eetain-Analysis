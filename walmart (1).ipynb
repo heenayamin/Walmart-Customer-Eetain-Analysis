{
 "cells": [
  {
   "cell_type": "code",
   "execution_count": 1,
   "id": "b9305608",
   "metadata": {},
   "outputs": [
    {
     "name": "stdout",
     "output_type": "stream",
     "text": [
      "   Store        Date  Weekly_Sales  Holiday_Flag  Temperature  Fuel_Price  \\\n",
      "0      1  05-02-2010    1643690.90             0        42.31       2.572   \n",
      "1      1  12-02-2010    1641957.44             1        38.51       2.548   \n",
      "2      1  19-02-2010    1611968.17             0        39.93       2.514   \n",
      "3      1  26-02-2010    1409727.59             0        46.63       2.561   \n",
      "4      1  05-03-2010    1554806.68             0        46.50       2.625   \n",
      "\n",
      "          CPI  Unemployment  \n",
      "0  211.096358         8.106  \n",
      "1  211.242170         8.106  \n",
      "2  211.289143         8.106  \n",
      "3  211.319643         8.106  \n",
      "4  211.350143         8.106  \n"
     ]
    }
   ],
   "source": [
    "import pandas as pd\n",
    "import numpy as np\n",
    "import seaborn as sns\n",
    "import matplotlib.pyplot as plt\n",
    "%matplotlib inline\n",
    "from patsy import dmatrices\n",
    "import sklearn \n",
    "data=pd.read_csv(\"/Users/LENOVO/OneDrive/Desktop/DATA SCIENTIST/data science with python/Dataset/Walmart_Store_sales.csv\")\n",
    "#print(data.to_string())\n",
    "print(data.head(5))\n"
   ]
  },
  {
   "cell_type": "code",
   "execution_count": 2,
   "id": "c8e809e1-8407-49bb-abe7-74faac880e06",
   "metadata": {},
   "outputs": [
    {
     "data": {
      "text/plain": [
       "Store           0\n",
       "Date            0\n",
       "Weekly_Sales    0\n",
       "Holiday_Flag    0\n",
       "Temperature     0\n",
       "Fuel_Price      0\n",
       "CPI             0\n",
       "Unemployment    0\n",
       "dtype: int64"
      ]
     },
     "execution_count": 2,
     "metadata": {},
     "output_type": "execute_result"
    }
   ],
   "source": [
    "#checking for  the null values to clean the data\n",
    "data.isna().sum()\n"
   ]
  },
  {
   "cell_type": "markdown",
   "id": "6a001638",
   "metadata": {},
   "source": [
    "so we dont have any null value in the walmart dataset"
   ]
  },
  {
   "cell_type": "code",
   "execution_count": 3,
   "id": "efffacd1-1d4e-4d69-803a-2f46c316d89a",
   "metadata": {},
   "outputs": [
    {
     "data": {
      "text/plain": [
       "array([0, 1], dtype=int64)"
      ]
     },
     "execution_count": 3,
     "metadata": {},
     "output_type": "execute_result"
    }
   ],
   "source": [
    "#checking the unique value of each field\n",
    "np.unique(data.Holiday_Flag)\n"
   ]
  },
  {
   "cell_type": "code",
   "execution_count": null,
   "id": "b21d9144-722c-4992-b7d7-1aef03ec4a88",
   "metadata": {},
   "outputs": [],
   "source": []
  },
  {
   "cell_type": "code",
   "execution_count": 4,
   "id": "da1b1053-e01a-4e60-91ba-a3319a393079",
   "metadata": {},
   "outputs": [
    {
     "data": {
      "text/html": [
       "<div>\n",
       "<style scoped>\n",
       "    .dataframe tbody tr th:only-of-type {\n",
       "        vertical-align: middle;\n",
       "    }\n",
       "\n",
       "    .dataframe tbody tr th {\n",
       "        vertical-align: top;\n",
       "    }\n",
       "\n",
       "    .dataframe thead th {\n",
       "        text-align: right;\n",
       "    }\n",
       "</style>\n",
       "<table border=\"1\" class=\"dataframe\">\n",
       "  <thead>\n",
       "    <tr style=\"text-align: right;\">\n",
       "      <th></th>\n",
       "      <th>Store</th>\n",
       "      <th>Weekly_Sales</th>\n",
       "      <th>Holiday_Flag</th>\n",
       "      <th>Temperature</th>\n",
       "      <th>Fuel_Price</th>\n",
       "      <th>CPI</th>\n",
       "      <th>Unemployment</th>\n",
       "    </tr>\n",
       "  </thead>\n",
       "  <tbody>\n",
       "    <tr>\n",
       "      <th>count</th>\n",
       "      <td>6435.000000</td>\n",
       "      <td>6.435000e+03</td>\n",
       "      <td>6435.000000</td>\n",
       "      <td>6435.000000</td>\n",
       "      <td>6435.000000</td>\n",
       "      <td>6435.000000</td>\n",
       "      <td>6435.000000</td>\n",
       "    </tr>\n",
       "    <tr>\n",
       "      <th>mean</th>\n",
       "      <td>23.000000</td>\n",
       "      <td>1.046965e+06</td>\n",
       "      <td>0.069930</td>\n",
       "      <td>60.663782</td>\n",
       "      <td>3.358607</td>\n",
       "      <td>171.578394</td>\n",
       "      <td>7.999151</td>\n",
       "    </tr>\n",
       "    <tr>\n",
       "      <th>std</th>\n",
       "      <td>12.988182</td>\n",
       "      <td>5.643666e+05</td>\n",
       "      <td>0.255049</td>\n",
       "      <td>18.444933</td>\n",
       "      <td>0.459020</td>\n",
       "      <td>39.356712</td>\n",
       "      <td>1.875885</td>\n",
       "    </tr>\n",
       "    <tr>\n",
       "      <th>min</th>\n",
       "      <td>1.000000</td>\n",
       "      <td>2.099862e+05</td>\n",
       "      <td>0.000000</td>\n",
       "      <td>-2.060000</td>\n",
       "      <td>2.472000</td>\n",
       "      <td>126.064000</td>\n",
       "      <td>3.879000</td>\n",
       "    </tr>\n",
       "    <tr>\n",
       "      <th>25%</th>\n",
       "      <td>12.000000</td>\n",
       "      <td>5.533501e+05</td>\n",
       "      <td>0.000000</td>\n",
       "      <td>47.460000</td>\n",
       "      <td>2.933000</td>\n",
       "      <td>131.735000</td>\n",
       "      <td>6.891000</td>\n",
       "    </tr>\n",
       "    <tr>\n",
       "      <th>50%</th>\n",
       "      <td>23.000000</td>\n",
       "      <td>9.607460e+05</td>\n",
       "      <td>0.000000</td>\n",
       "      <td>62.670000</td>\n",
       "      <td>3.445000</td>\n",
       "      <td>182.616521</td>\n",
       "      <td>7.874000</td>\n",
       "    </tr>\n",
       "    <tr>\n",
       "      <th>75%</th>\n",
       "      <td>34.000000</td>\n",
       "      <td>1.420159e+06</td>\n",
       "      <td>0.000000</td>\n",
       "      <td>74.940000</td>\n",
       "      <td>3.735000</td>\n",
       "      <td>212.743293</td>\n",
       "      <td>8.622000</td>\n",
       "    </tr>\n",
       "    <tr>\n",
       "      <th>max</th>\n",
       "      <td>45.000000</td>\n",
       "      <td>3.818686e+06</td>\n",
       "      <td>1.000000</td>\n",
       "      <td>100.140000</td>\n",
       "      <td>4.468000</td>\n",
       "      <td>227.232807</td>\n",
       "      <td>14.313000</td>\n",
       "    </tr>\n",
       "  </tbody>\n",
       "</table>\n",
       "</div>"
      ],
      "text/plain": [
       "             Store  Weekly_Sales  Holiday_Flag  Temperature   Fuel_Price  \\\n",
       "count  6435.000000  6.435000e+03   6435.000000  6435.000000  6435.000000   \n",
       "mean     23.000000  1.046965e+06      0.069930    60.663782     3.358607   \n",
       "std      12.988182  5.643666e+05      0.255049    18.444933     0.459020   \n",
       "min       1.000000  2.099862e+05      0.000000    -2.060000     2.472000   \n",
       "25%      12.000000  5.533501e+05      0.000000    47.460000     2.933000   \n",
       "50%      23.000000  9.607460e+05      0.000000    62.670000     3.445000   \n",
       "75%      34.000000  1.420159e+06      0.000000    74.940000     3.735000   \n",
       "max      45.000000  3.818686e+06      1.000000   100.140000     4.468000   \n",
       "\n",
       "               CPI  Unemployment  \n",
       "count  6435.000000   6435.000000  \n",
       "mean    171.578394      7.999151  \n",
       "std      39.356712      1.875885  \n",
       "min     126.064000      3.879000  \n",
       "25%     131.735000      6.891000  \n",
       "50%     182.616521      7.874000  \n",
       "75%     212.743293      8.622000  \n",
       "max     227.232807     14.313000  "
      ]
     },
     "execution_count": 4,
     "metadata": {},
     "output_type": "execute_result"
    }
   ],
   "source": [
    "data.describe()"
   ]
  },
  {
   "cell_type": "code",
   "execution_count": 5,
   "id": "9252f195",
   "metadata": {},
   "outputs": [
    {
     "name": "stdout",
     "output_type": "stream",
     "text": [
      "The store 20 has maximum sale .\n",
      " sum of total sale is 301397792.46\n"
     ]
    }
   ],
   "source": [
    "#the store with maximum sale\n",
    "df=data.groupby('Store')['Weekly_Sales'].sum()\n",
    "print(\"The store {} has maximum sale .\\n sum of total sale is {}\".format(df.idxmax(),df.max()))"
   ]
  },
  {
   "cell_type": "code",
   "execution_count": 11,
   "id": "9186a30d",
   "metadata": {},
   "outputs": [
    {
     "name": "stdout",
     "output_type": "stream",
     "text": [
      "the store 14 has  maximum standard deviation  of 317569.9494755081\n"
     ]
    }
   ],
   "source": [
    "# the store with maximum standard deviation\n",
    "df=data.groupby('Store')['Weekly_Sales'].std()\n",
    "print(\"the store {} has  maximum standard deviation  of {}\".format(df.idxmax(),df.max()))"
   ]
  },
  {
   "cell_type": "code",
   "execution_count": 24,
   "id": "9e748e02",
   "metadata": {},
   "outputs": [
    {
     "name": "stdout",
     "output_type": "stream",
     "text": [
      "141585.8646635992\n"
     ]
    }
   ],
   "source": [
    "print(df.mean())"
   ]
  },
  {
   "cell_type": "code",
   "execution_count": 12,
   "id": "f1ed3ad8",
   "metadata": {},
   "outputs": [
    {
     "data": {
      "text/html": [
       "<div>\n",
       "<style scoped>\n",
       "    .dataframe tbody tr th:only-of-type {\n",
       "        vertical-align: middle;\n",
       "    }\n",
       "\n",
       "    .dataframe tbody tr th {\n",
       "        vertical-align: top;\n",
       "    }\n",
       "\n",
       "    .dataframe thead tr th {\n",
       "        text-align: left;\n",
       "    }\n",
       "\n",
       "    .dataframe thead tr:last-of-type th {\n",
       "        text-align: right;\n",
       "    }\n",
       "</style>\n",
       "<table border=\"1\" class=\"dataframe\">\n",
       "  <thead>\n",
       "    <tr>\n",
       "      <th></th>\n",
       "      <th colspan=\"2\" halign=\"left\">Weekly_Sales</th>\n",
       "    </tr>\n",
       "    <tr>\n",
       "      <th></th>\n",
       "      <th>mean</th>\n",
       "      <th>std</th>\n",
       "    </tr>\n",
       "    <tr>\n",
       "      <th>Store</th>\n",
       "      <th></th>\n",
       "      <th></th>\n",
       "    </tr>\n",
       "  </thead>\n",
       "  <tbody>\n",
       "    <tr>\n",
       "      <th>1</th>\n",
       "      <td>1.555264e+06</td>\n",
       "      <td>155980.767761</td>\n",
       "    </tr>\n",
       "    <tr>\n",
       "      <th>2</th>\n",
       "      <td>1.925751e+06</td>\n",
       "      <td>237683.694682</td>\n",
       "    </tr>\n",
       "    <tr>\n",
       "      <th>3</th>\n",
       "      <td>4.027044e+05</td>\n",
       "      <td>46319.631557</td>\n",
       "    </tr>\n",
       "    <tr>\n",
       "      <th>4</th>\n",
       "      <td>2.094713e+06</td>\n",
       "      <td>266201.442297</td>\n",
       "    </tr>\n",
       "    <tr>\n",
       "      <th>5</th>\n",
       "      <td>3.180118e+05</td>\n",
       "      <td>37737.965745</td>\n",
       "    </tr>\n",
       "  </tbody>\n",
       "</table>\n",
       "</div>"
      ],
      "text/plain": [
       "       Weekly_Sales               \n",
       "               mean            std\n",
       "Store                             \n",
       "1      1.555264e+06  155980.767761\n",
       "2      1.925751e+06  237683.694682\n",
       "3      4.027044e+05   46319.631557\n",
       "4      2.094713e+06  266201.442297\n",
       "5      3.180118e+05   37737.965745"
      ]
     },
     "execution_count": 12,
     "metadata": {},
     "output_type": "execute_result"
    }
   ],
   "source": [
    "df=data.groupby('Store').agg({'Weekly_Sales':['mean','std']})\n",
    "df.head()"
   ]
  },
  {
   "cell_type": "code",
   "execution_count": 13,
   "id": "43a56571",
   "metadata": {},
   "outputs": [
    {
     "name": "stdout",
     "output_type": "stream",
     "text": [
      "the store 4 has Good Quarterly growth rate in Q3 2012 25652119.35\n"
     ]
    }
   ],
   "source": [
    "#the growth rate in Q3'2012\n",
    "df_Q3=data[(pd.to_datetime(data['Date'])>=pd.to_datetime('07-01-2012')) & (pd.to_datetime(data['Date'])<=pd.to_datetime('09-30-2012'))]\n",
    "df_growth=df_Q3.groupby(['Store'])['Weekly_Sales'].sum()\n",
    "print(\"the store {} has Good Quarterly growth rate in Q3 2012 {}\".format(df_growth.idxmax(),df_growth.max()))"
   ]
  },
  {
   "cell_type": "code",
   "execution_count": 6,
   "id": "a04f8f23",
   "metadata": {},
   "outputs": [],
   "source": [
    "holiday_sales=data[data['Holiday_Flag']==1]"
   ]
  },
  {
   "cell_type": "code",
   "execution_count": 38,
   "id": "f2449ae2",
   "metadata": {},
   "outputs": [],
   "source": [
    "nonholiday_sales=data[data['Holiday_Flag']==0]"
   ]
  },
  {
   "cell_type": "markdown",
   "id": "9ea0f204",
   "metadata": {},
   "source": [
    "Above,i had converted the column 'Holiday_Flag' into two  diffrent dataframe as holiday_sales,nonholiday_sales"
   ]
  },
  {
   "cell_type": "code",
   "execution_count": 47,
   "id": "adfed1db",
   "metadata": {},
   "outputs": [
    {
     "name": "stdout",
     "output_type": "stream",
     "text": [
      "On this Date 07-09-2012 Holiday Sales is greater than Non Holiday Sales and the Sales :- 48330059.31\n",
      "On this Date 09-09-2011 Holiday Sales is greater than Non Holiday Sales and the Sales :- 46763227.53\n",
      "On this Date 10-02-2012 Holiday Sales is greater than Non Holiday Sales and the Sales :- 50009407.92\n",
      "On this Date 10-09-2010 Holiday Sales is greater than Non Holiday Sales and the Sales :- 45634397.839999996\n",
      "On this Date 11-02-2011 Holiday Sales is greater than Non Holiday Sales and the Sales :- 47336192.79\n",
      "On this Date 12-02-2010 Holiday Sales is greater than Non Holiday Sales and the Sales :- 48336677.63\n",
      "On this Date 25-11-2011 Holiday Sales is greater than Non Holiday Sales and the Sales :- 66593605.26\n",
      "On this Date 26-11-2010 Holiday Sales is greater than Non Holiday Sales and the Sales :- 65821003.24\n",
      "On this Date 30-12-2011 Holiday Sales is greater than Non Holiday Sales and the Sales :- 46042461.04\n",
      "On this Date 31-12-2010 Holiday Sales is greater than Non Holiday Sales and the Sales :- 40432519.0\n"
     ]
    }
   ],
   "source": [
    "#Stores Sales in Super Bowl Day\n",
    "#Super Bowl: 12-Feb-10, 11-Feb-11, 10-Feb-12, 8-Feb-13\n",
    "holiday_sales_superBowl = holiday_sales[(pd.to_datetime(holiday_sales['Date']) == pd.to_datetime('12-02-2010')) |(pd.to_datetime(holiday_sales['Date']) == pd.to_datetime('11-2-2011'))|(pd.to_datetime(holiday_sales['Date']) == pd.to_datetime('10-2-2012'))|(pd.to_datetime(holiday_sales['Date']) == pd.to_datetime('08-02-2013'))]\n",
    "#Stores Sales in Labour Da\n",
    "#Labour Day: 10-Sep-10, 9-Sep-11, 7-Sep-12, 6-Sep-13\n",
    "holiday_sales_labourDay = holiday_sales[(pd.to_datetime(holiday_sales['Date']) == pd.to_datetime('10-09-2010')) |(pd.to_datetime(holiday_sales['Date']) == pd.to_datetime('09-09-2011'))|(pd.to_datetime(holiday_sales['Date']) == pd.to_datetime('07-9-2012'))|(pd.to_datetime(holiday_sales['Date']) == pd.to_datetime('06-09-2013'))]\n",
    "#stores sale in thanksgiving\n",
    "holiday_sales_thanksgiving = holiday_sales[(pd.to_datetime(holiday_sales['Date']) == pd.to_datetime('26-11-2010')) |(pd.to_datetime(holiday_sales['Date']) == pd.to_datetime('25-11-2011'))|(pd.to_datetime(holiday_sales['Date']) == pd.to_datetime('23-11-2012'))|(pd.to_datetime(holiday_sales['Date']) == pd.to_datetime('29-11-2013'))]\n",
    "\n",
    "#Stores Sales in Christmas\n",
    "# Christmas: 31-Dec-10, 30-Dec-11, 28-Dec-12, 27-Dec-13\n",
    "holiday_sales_Christmas = holiday_sales[(pd.to_datetime(holiday_sales['Date']) == pd.to_datetime('31-12-2010')) |(pd.to_datetime(holiday_sales['Date']) == pd.to_datetime('30-12-2011'))|(pd.to_datetime(holiday_sales['Date']) == pd.to_datetime('28-12-2012'))|(pd.to_datetime(holiday_sales['Date']) == pd.to_datetime('27-12-2013'))]\n",
    "nonholiday_sales_mean = nonholiday_sales.groupby(['Date']).agg({'Weekly_Sales':'mean'}).reset_index()\n",
    "stores_holiday_sales_sum = stores_holiday_sales.groupby(['Date']).agg({'Weekly_Sales':'sum'}).reset_index()\n",
    "for row in stores_holiday_sales_sum.itertuples():\n",
    "    for row1 in stores_nonholiday_sales_mean.itertuples():\n",
    "        if row.Weekly_Sales> row1.Weekly_Sales:\n",
    "            print(\"On this Date {} Holiday Sales is greater than Non Holiday Sales and the Sales :- {}\".format(row.Date,row.Weekly_Sales))\n",
    "            break"
   ]
  },
  {
   "cell_type": "code",
   "execution_count": 43,
   "id": "f064a5dc",
   "metadata": {},
   "outputs": [
    {
     "name": "stdout",
     "output_type": "stream",
     "text": [
      "SuperBowl Day Sale 145682278.34\n"
     ]
    }
   ],
   "source": [
    "print(\"SuperBowl Day Sale\",holiday_sales_superBowl['Weekly_Sales'].sum())"
   ]
  },
  {
   "cell_type": "code",
   "execution_count": 46,
   "id": "7748e2c9",
   "metadata": {},
   "outputs": [
    {
     "name": "stdout",
     "output_type": "stream",
     "text": [
      "Labour Day Sale 140727684.68\n"
     ]
    }
   ],
   "source": [
    "print(\"Labour Day Sale\",holiday_sales_labourDay['Weekly_Sales'].sum())"
   ]
  },
  {
   "cell_type": "code",
   "execution_count": 48,
   "id": "d178e6dd",
   "metadata": {},
   "outputs": [
    {
     "name": "stdout",
     "output_type": "stream",
     "text": [
      "Thanks Giving Day 132414608.5\n"
     ]
    }
   ],
   "source": [
    "print(\"Thanks Giving Day Sale\",holiday_sales_thanksgiving['Weekly_Sales'].sum())"
   ]
  },
  {
   "cell_type": "code",
   "execution_count": 49,
   "id": "844e2ede",
   "metadata": {},
   "outputs": [
    {
     "name": "stdout",
     "output_type": "stream",
     "text": [
      "Christmas Day Sale 86474980.03999999\n"
     ]
    }
   ],
   "source": [
    "print(\"Christmas Day Sale\",holiday_sales_Christmas['Weekly_Sales'].sum())"
   ]
  },
  {
   "cell_type": "code",
   "execution_count": 55,
   "id": "4cc40123",
   "metadata": {},
   "outputs": [
    {
     "data": {
      "text/plain": [
       "47      1367320.01\n",
       "99      1497462.72\n",
       "190     1750434.55\n",
       "242     1874226.52\n",
       "333      382677.76\n",
       "           ...    \n",
       "6105     505405.85\n",
       "6196     241937.11\n",
       "6248     263917.85\n",
       "6339     679156.20\n",
       "6391     869403.63\n",
       "Name: Weekly_Sales, Length: 90, dtype: float64"
      ]
     },
     "execution_count": 55,
     "metadata": {},
     "output_type": "execute_result"
    }
   ],
   "source": [
    "d=holiday_sales_Christmas['Weekly_Sales']\n",
    "d"
   ]
  },
  {
   "cell_type": "code",
   "execution_count": null,
   "id": "e20eb90a",
   "metadata": {},
   "outputs": [],
   "source": []
  },
  {
   "cell_type": "code",
   "execution_count": null,
   "id": "3615eccc",
   "metadata": {},
   "outputs": [],
   "source": []
  },
  {
   "cell_type": "code",
   "execution_count": 2,
   "id": "f05e274c",
   "metadata": {},
   "outputs": [
    {
     "name": "stdout",
     "output_type": "stream",
     "text": [
      "   Store  Date\n",
      "0      1     1\n",
      "1      1     2\n",
      "2      1     3\n",
      "3      1     4\n",
      "4      1     5\n"
     ]
    },
    {
     "data": {
      "text/plain": [
       "0    1643690.90\n",
       "1    1641957.44\n",
       "2    1611968.17\n",
       "3    1409727.59\n",
       "4    1554806.68\n",
       "Name: Weekly_Sales, dtype: float64"
      ]
     },
     "execution_count": 2,
     "metadata": {},
     "output_type": "execute_result"
    }
   ],
   "source": [
    "x=data[data['Store']==1][['Store','Date']]\n",
    "date_object=data[data['Store']==1]['Date']\n",
    "date_object.index+=1\n",
    "x.Date=date_object.index\n",
    "print(x.head())\n",
    "y_target=data[data['Store']==1]['Weekly_Sales']\n",
    "y_target.head()"
   ]
  },
  {
   "cell_type": "code",
   "execution_count": 43,
   "id": "68ba8f09",
   "metadata": {},
   "outputs": [
    {
     "data": {
      "text/html": [
       "<div>\n",
       "<style scoped>\n",
       "    .dataframe tbody tr th:only-of-type {\n",
       "        vertical-align: middle;\n",
       "    }\n",
       "\n",
       "    .dataframe tbody tr th {\n",
       "        vertical-align: top;\n",
       "    }\n",
       "\n",
       "    .dataframe thead th {\n",
       "        text-align: right;\n",
       "    }\n",
       "</style>\n",
       "<table border=\"1\" class=\"dataframe\">\n",
       "  <thead>\n",
       "    <tr style=\"text-align: right;\">\n",
       "      <th></th>\n",
       "      <th>Store</th>\n",
       "      <th>CPI</th>\n",
       "      <th>Unemployment</th>\n",
       "      <th>Fuel_Price</th>\n",
       "    </tr>\n",
       "  </thead>\n",
       "  <tbody>\n",
       "    <tr>\n",
       "      <th>0</th>\n",
       "      <td>1</td>\n",
       "      <td>211.096358</td>\n",
       "      <td>8.106</td>\n",
       "      <td>2.572</td>\n",
       "    </tr>\n",
       "    <tr>\n",
       "      <th>1</th>\n",
       "      <td>1</td>\n",
       "      <td>211.242170</td>\n",
       "      <td>8.106</td>\n",
       "      <td>2.548</td>\n",
       "    </tr>\n",
       "    <tr>\n",
       "      <th>2</th>\n",
       "      <td>1</td>\n",
       "      <td>211.289143</td>\n",
       "      <td>8.106</td>\n",
       "      <td>2.514</td>\n",
       "    </tr>\n",
       "    <tr>\n",
       "      <th>3</th>\n",
       "      <td>1</td>\n",
       "      <td>211.319643</td>\n",
       "      <td>8.106</td>\n",
       "      <td>2.561</td>\n",
       "    </tr>\n",
       "    <tr>\n",
       "      <th>4</th>\n",
       "      <td>1</td>\n",
       "      <td>211.350143</td>\n",
       "      <td>8.106</td>\n",
       "      <td>2.625</td>\n",
       "    </tr>\n",
       "  </tbody>\n",
       "</table>\n",
       "</div>"
      ],
      "text/plain": [
       "   Store         CPI  Unemployment  Fuel_Price\n",
       "0      1  211.096358         8.106       2.572\n",
       "1      1  211.242170         8.106       2.548\n",
       "2      1  211.289143         8.106       2.514\n",
       "3      1  211.319643         8.106       2.561\n",
       "4      1  211.350143         8.106       2.625"
      ]
     },
     "execution_count": 43,
     "metadata": {},
     "output_type": "execute_result"
    }
   ],
   "source": [
    "from sklearn.model_selection import train_test_split\n",
    "x_train,x_test,y_train,y_test=train_test_split(x,y_target,random_state=1)\n",
    "from sklearn.linear_model import LinearRegression\n",
    "linreg=LinearRegression()\n",
    "linreg=(x_train,y_train)\n",
    "feature_dataset=data[data['Store']==1][['Store','CPI','Unemployment','Fuel_Price']]\n",
    "feature_dataset.head()"
   ]
  },
  {
   "cell_type": "code",
   "execution_count": 37,
   "id": "36ab8735",
   "metadata": {},
   "outputs": [],
   "source": [
    "response_set_cpi=data[data['Store']==1]['CPI'].astype('int64')\n",
    "response_set_unemployment=data[data['Store']==1]['Unemployment'].astype('int64')\n",
    "from sklearn.model_selection import train_test_split\n",
    "x_train_cpi,x_test_cpi,y_train_cpi,y_test_cpi=train_test_split(feature_dataset,response_set_cpi,random_state=1)\n",
    "x_train_unemp,x_test_unemp,y_train_unemp,y_test_unemp=train_test_split(feature_dataset,response_set_unemployment,random_state=1)"
   ]
  },
  {
   "cell_type": "code",
   "execution_count": 38,
   "id": "5f5b4888",
   "metadata": {},
   "outputs": [
    {
     "data": {
      "text/plain": [
       "LogisticRegression(max_iter=10000)"
      ]
     },
     "execution_count": 38,
     "metadata": {},
     "output_type": "execute_result"
    }
   ],
   "source": [
    "from sklearn.linear_model import LogisticRegression\n",
    "logreg=LogisticRegression(max_iter=10000)\n",
    "logreg.fit(x_train_cpi,y_train_cpi)\n",
    "y_pred=logreg.predict(x_test_cpi)\n",
    "logreg.fit(x_train_unemp,y_train_unemp)\n"
   ]
  },
  {
   "cell_type": "code",
   "execution_count": 39,
   "id": "dd657734",
   "metadata": {},
   "outputs": [],
   "source": [
    "y_pred_unemp=logreg.predict(x_test_unemp)"
   ]
  },
  {
   "cell_type": "code",
   "execution_count": 40,
   "id": "2df86331",
   "metadata": {},
   "outputs": [
    {
     "name": "stdout",
     "output_type": "stream",
     "text": [
      "0.7222222222222222\n",
      "0.9444444444444444\n"
     ]
    }
   ],
   "source": [
    "from sklearn import metrics\n",
    "print(metrics.accuracy_score(y_test_cpi,y_pred))\n",
    "print(metrics.accuracy_score(y_test_unemp,y_pred_unemp))"
   ]
  },
  {
   "cell_type": "code",
   "execution_count": 50,
   "id": "6b077adf",
   "metadata": {},
   "outputs": [
    {
     "name": "stdout",
     "output_type": "stream",
     "text": [
      "0.7222222222222222\n",
      "0.9444444444444444\n"
     ]
    }
   ],
   "source": [
    "from sklearn import metrics\n",
    "print(metrics.accuracy_score(y_test_cpi,y_pred))\n",
    "print(metrics.accuracy_score(y_test_unemp,y_pred_unemp))"
   ]
  },
  {
   "cell_type": "code",
   "execution_count": 51,
   "id": "64ad20c9",
   "metadata": {},
   "outputs": [
    {
     "name": "stdout",
     "output_type": "stream",
     "text": [
      "cpi actual:y_test_cpi.values[0:30]\n",
      "cpi predicted: [215 221 211 211 221 211 211 211 215 215 221 211 215 218 211 211 211 217\n",
      " 215 211 211 217 221 220 215 211 211 221 215 220]\n",
      "actual Unemployment: [7 7 7 8 7 7 7 7 7 7 6 7 7 7 7 7 7 7 7 7 7 7 7 7 7 7 7 7 7 7]\n"
     ]
    }
   ],
   "source": [
    "print('cpi actual:y_test_cpi.values[0:30]')\n",
    "print('cpi predicted:',y_pred[0:30])\n",
    "print('actual Unemployment:',y_test_unemp.values[0:30])"
   ]
  },
  {
   "cell_type": "code",
   "execution_count": 7,
   "id": "3cd78789-bd7e-4d1b-861a-8a9c107d9835",
   "metadata": {},
   "outputs": [
    {
     "data": {
      "text/plain": [
       "<AxesSubplot:xlabel='Holiday_Flag', ylabel='count'>"
      ]
     },
     "execution_count": 7,
     "metadata": {},
     "output_type": "execute_result"
    },
    {
     "data": {
      "image/png": "[encoded data removed]",
      "text/plain": [
       "<Figure size 432x288 with 1 Axes>"
      ]
     },
     "metadata": {
      "needs_background": "light"
     },
     "output_type": "display_data"
    }
   ],
   "source": [
    "sns.countplot(x='Holiday_Flag',data=data,palette='BrBG')"
   ]
  },
  {
   "cell_type": "code",
   "execution_count": 7,
   "id": "036d1cc8-f40c-439e-aba0-e1312992f874",
   "metadata": {},
   "outputs": [
    {
     "data": {
      "text/plain": [
       "<AxesSubplot:xlabel='Weekly_Sales', ylabel='Holiday_Flag'>"
      ]
     },
     "execution_count": 7,
     "metadata": {},
     "output_type": "execute_result"
    },
    {
     "data": {
      "image/png": "[encoded data removed]",
      "text/plain": [
       "<Figure size 432x288 with 1 Axes>"
      ]
     },
     "metadata": {
      "needs_background": "light"
     },
     "output_type": "display_data"
    }
   ],
   "source": [
    "#sns.scatterplot(x='Weekly_Sales',y='Holiday_Flag',data=data,hue='Holiday_Flag')"
   ]
  },
  {
   "cell_type": "code",
   "execution_count": null,
   "id": "aaf5a7aa-972f-46c8-8682-163ab4f7f6e7",
   "metadata": {},
   "outputs": [],
   "source": []
  },
  {
   "cell_type": "code",
   "execution_count": null,
   "id": "cdd41721",
   "metadata": {},
   "outputs": [],
   "source": []
  },
  {
   "cell_type": "code",
   "execution_count": null,
   "id": "b5caaa37",
   "metadata": {},
   "outputs": [],
   "source": []
  },
  {
   "cell_type": "code",
   "execution_count": null,
   "id": "009aad34",
   "metadata": {},
   "outputs": [],
   "source": []
  }
 ],
 "metadata": {
  "kernelspec": {
   "display_name": "Python 3 (ipykernel)",
   "language": "python",
   "name": "python3"
  },
  "language_info": {
   "codemirror_mode": {
    "name": "ipython",
    "version": 3
   },
   "file_extension": ".py",
   "mimetype": "text/x-python",
   "name": "python",
   "nbconvert_exporter": "python",
   "pygments_lexer": "ipython3",
   "version": "3.9.7"
  }
 },
 "nbformat": 4,
 "nbformat_minor": 5
}
